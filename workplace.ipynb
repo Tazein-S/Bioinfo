{
 "cells": [
  {
   "cell_type": "code",
   "execution_count": 31,
   "id": "edf49ee4",
   "metadata": {},
   "outputs": [],
   "source": [
    "import numpy as np"
   ]
  },
  {
   "cell_type": "code",
   "execution_count": 32,
   "id": "0a0b32ee",
   "metadata": {},
   "outputs": [
    {
     "name": "stdout",
     "output_type": "stream",
     "text": [
      "[['A' 'T' 'C' 'C' 'A' 'G' 'C' 'T']\n",
      " ['G' 'G' 'G' 'C' 'A' 'A' 'C' 'T']\n",
      " ['A' 'T' 'G' 'G' 'A' 'T' 'C' 'T']\n",
      " ['A' 'A' 'G' 'C' 'A' 'A' 'C' 'C']\n",
      " ['T' 'T' 'G' 'G' 'A' 'A' 'C' 'T']\n",
      " ['A' 'T' 'G' 'C' 'C' 'A' 'T' 'T']\n",
      " ['A' 'T' 'G' 'G' 'C' 'A' 'C' 'T']]\n"
     ]
    }
   ],
   "source": [
    "file = open('simple_consensus_example.txt', 'r')\n",
    "matrix = []\n",
    "\n",
    "for line in file:    \n",
    "    if line.startswith('>') is False:\n",
    "        line = line.strip('\\n')\n",
    "        line = line.split()\n",
    "        \n",
    "        matrix.append(line)\n",
    "\n",
    "split_result = []\n",
    "\n",
    "for sublist in matrix:\n",
    "    for string in sublist:\n",
    "        split_result.extend([list(string)])\n",
    "        \n",
    "matrix = np.array(split_result, dtype = object)\n",
    "print(matrix)"
   ]
  },
  {
   "cell_type": "code",
   "execution_count": 33,
   "id": "b43af663",
   "metadata": {},
   "outputs": [],
   "source": [
    "#first value is row, second is column\n",
    "#where I was struggling was that I kept using the row first, but column first is better\n",
    "A = []\n",
    "C = []\n",
    "G = []\n",
    "T = []\n",
    "\n",
    "for i in range(len(matrix[0])): #for every column\n",
    "    A_count = 0\n",
    "    C_count = 0\n",
    "    G_count = 0\n",
    "    T_count = 0 \n",
    "    \n",
    "    for value in matrix[:,i]: #for all the values in that column \n",
    "        if value == 'A':\n",
    "            A_count += 1\n",
    "        \n",
    "        if value == 'C':\n",
    "            C_count += 1\n",
    "        \n",
    "        if value == 'G':\n",
    "            G_count += 1\n",
    "        \n",
    "        if value == 'T':\n",
    "            T_count += 1\n",
    "            \n",
    "    A.append(A_count)\n",
    "    C.append(C_count)\n",
    "    G.append(G_count)\n",
    "    T.append(T_count)\n"
   ]
  },
  {
   "cell_type": "code",
   "execution_count": 34,
   "id": "51df8aad",
   "metadata": {},
   "outputs": [],
   "source": [
    "consensus_string = []\n",
    "\n",
    "index = {0 : 'A',\n",
    "         1 : 'C',\n",
    "         2 : 'G',\n",
    "         3 : 'T'}\n",
    "    \n",
    "for i in range(len(A)):\n",
    "    profile_value = [(A[i]),(C[i]),(G[i]),(T[i])]\n",
    "    max_value = max(profile_value)\n",
    "    \n",
    "    max_index = profile_value.index(max_value)\n",
    "    \n",
    "    consensus_string.append(index[max_index])\n",
    "    \n",
    "consensus_string = ''.join(map(str, consensus_string))\n",
    "\n",
    "A = ' '.join(map(str, A))\n",
    "C = ' '.join(map(str, C))\n",
    "G = ' '.join(map(str, G))\n",
    "T = ' '.join(map(str, T))\n",
    "\n",
    "with open('consensus_results.txt', 'w') as results:\n",
    "    results.write(consensus_string + '\\n')\n",
    "    results.write('A: ' + A + '\\n')\n",
    "    results.write('C: ' + C + '\\n')\n",
    "    results.write('G: ' + G + '\\n')\n",
    "    results.write('T: ' + T + '\\n')"
   ]
  }
 ],
 "metadata": {
  "kernelspec": {
   "display_name": "Python 3 (ipykernel)",
   "language": "python",
   "name": "python3"
  },
  "language_info": {
   "codemirror_mode": {
    "name": "ipython",
    "version": 3
   },
   "file_extension": ".py",
   "mimetype": "text/x-python",
   "name": "python",
   "nbconvert_exporter": "python",
   "pygments_lexer": "ipython3",
   "version": "3.10.9"
  }
 },
 "nbformat": 4,
 "nbformat_minor": 5
}
