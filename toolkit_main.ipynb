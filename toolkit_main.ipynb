{
 "cells": [
  {
   "cell_type": "markdown",
   "id": "2a0a4660",
   "metadata": {},
   "source": [
    "##### Created on 4/29/24 by Tazein Shah\n",
    "##### Made to test the DNAToolkit.py from a tutorial to learn more bioinformatics"
   ]
  },
  {
   "cell_type": "code",
   "execution_count": 1,
   "id": "6feb91cc",
   "metadata": {},
   "outputs": [],
   "source": [
    "import sys\n",
    "sys.path.append('./C:/Users/15167/OneDrive/Documents/Bioinfo/')\n",
    "import DNAToolkit\n",
    "import random"
   ]
  },
  {
   "cell_type": "code",
   "execution_count": 2,
   "id": "55530bfd",
   "metadata": {},
   "outputs": [
    {
     "name": "stdout",
     "output_type": "stream",
     "text": [
      "TCCCCCCCCTTGCCAGCTGT\n",
      "TCCCCCCCCTTGCCAGCTGT\n",
      "False\n",
      "ATGCCC\n"
     ]
    }
   ],
   "source": [
    "#testing the function validateSed\n",
    "\n",
    "rndDNAStr = ''.join([random.choice(DNAToolkit.Nucleotides)\n",
    "                    for nuc in range(20)])\n",
    "print(rndDNAStr)\n",
    "print(DNAToolkit.validateSed(rndDNAStr))\n",
    "\n",
    "errorDNAStr = \"ATTTCGUUAATCG\"\n",
    "print(DNAToolkit.validateSed(errorDNAStr))\n",
    "\n",
    "mixedDNAStr = \"Atgccc\"\n",
    "print(DNAToolkit.validateSed(mixedDNAStr))"
   ]
  },
  {
   "cell_type": "code",
   "execution_count": 3,
   "id": "31309065",
   "metadata": {},
   "outputs": [
    {
     "name": "stdout",
     "output_type": "stream",
     "text": [
      "{'T': 5, 'C': 11, 'G': 3, 'A': 1}\n"
     ]
    }
   ],
   "source": [
    "# testing the function countNucFrequency\n",
    "\n",
    "FreqDict = DNAToolkit.countNucFrequency(rndDNAStr)\n",
    "print(FreqDict)"
   ]
  }
 ],
 "metadata": {
  "kernelspec": {
   "display_name": "Python 3 (ipykernel)",
   "language": "python",
   "name": "python3"
  },
  "language_info": {
   "codemirror_mode": {
    "name": "ipython",
    "version": 3
   },
   "file_extension": ".py",
   "mimetype": "text/x-python",
   "name": "python",
   "nbconvert_exporter": "python",
   "pygments_lexer": "ipython3",
   "version": "3.10.9"
  }
 },
 "nbformat": 4,
 "nbformat_minor": 5
}
