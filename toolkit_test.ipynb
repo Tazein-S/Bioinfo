{
 "cells": [
  {
   "cell_type": "markdown",
   "id": "2a0a4660",
   "metadata": {},
   "source": [
    "##### Created on 4/29/24 by Tazein Shah\n",
    "##### Made to test the DNAToolkit.py from a tutorial to learn more bioinformatics"
   ]
  },
  {
   "cell_type": "code",
   "execution_count": 6,
   "id": "6feb91cc",
   "metadata": {},
   "outputs": [],
   "source": [
    "import sys\n",
    "sys.path.append('./C:/Users/15167/OneDrive/Documents/Bioinfo/')\n",
    "import DNAToolkit\n",
    "import random"
   ]
  },
  {
   "cell_type": "code",
   "execution_count": 7,
   "id": "55530bfd",
   "metadata": {},
   "outputs": [
    {
     "name": "stdout",
     "output_type": "stream",
     "text": [
      "AAAGATAAGCGAGAACTCCA\n",
      "AAAGATAAGCGAGAACTCCA\n",
      "False\n",
      "ATGCCC\n"
     ]
    }
   ],
   "source": [
    "#testing the function validateSed\n",
    "\n",
    "rndDNAStr = ''.join([random.choice(DNAToolkit.Nucleotides)\n",
    "                    for nuc in range(20)])\n",
    "print(rndDNAStr)\n",
    "print(DNAToolkit.validateSed(rndDNAStr))\n",
    "\n",
    "errorDNAStr = \"ATTTCGUUAATCG\"\n",
    "print(DNAToolkit.validateSed(errorDNAStr))\n",
    "\n",
    "mixedDNAStr = \"Atgccc\"\n",
    "print(DNAToolkit.validateSed(mixedDNAStr))"
   ]
  },
  {
   "cell_type": "code",
   "execution_count": 8,
   "id": "31309065",
   "metadata": {},
   "outputs": [
    {
     "name": "stdout",
     "output_type": "stream",
     "text": [
      "{'A': 10, 'G': 4, 'T': 2, 'C': 4}\n"
     ]
    }
   ],
   "source": [
    "# testing the function countNucFrequency\n",
    "\n",
    "FreqDict = DNAToolkit.countNucFrequency(rndDNAStr)\n",
    "print(FreqDict)"
   ]
  },
  {
   "cell_type": "code",
   "execution_count": 9,
   "id": "a5907ade",
   "metadata": {},
   "outputs": [
    {
     "name": "stdout",
     "output_type": "stream",
     "text": [
      "GATGGAACTTGACTACGTAAATT\n",
      "GAUGGAACUUGACUACGUAAAUU\n"
     ]
    }
   ],
   "source": [
    "# testing dna_to_rna function\n",
    "dna_seq = 'GATGGAACTTGACTACGTAAATT'\n",
    "print(dna_seq)\n",
    "\n",
    "rna_seq = DNAToolkit.dnaTranscribe(dna_seq)\n",
    "print(rna_seq)"
   ]
  },
  {
   "cell_type": "code",
   "execution_count": 10,
   "id": "c9555ae5",
   "metadata": {},
   "outputs": [
    {
     "name": "stdout",
     "output_type": "stream",
     "text": [
      "AAAACCCGGT\n",
      "ACCGGGTTTT\n"
     ]
    }
   ],
   "source": [
    "dna_seq = 'AAAACCCGGT'\n",
    "print(dna_seq)\n",
    "\n",
    "comp_dna = DNAToolkit.complementingDNA(dna_seq)\n",
    "print(comp_dna)"
   ]
  },
  {
   "cell_type": "code",
   "execution_count": null,
   "id": "89053ee2",
   "metadata": {},
   "outputs": [],
   "source": []
  }
 ],
 "metadata": {
  "kernelspec": {
   "display_name": "Python 3 (ipykernel)",
   "language": "python",
   "name": "python3"
  },
  "language_info": {
   "codemirror_mode": {
    "name": "ipython",
    "version": 3
   },
   "file_extension": ".py",
   "mimetype": "text/x-python",
   "name": "python",
   "nbconvert_exporter": "python",
   "pygments_lexer": "ipython3",
   "version": "3.10.9"
  }
 },
 "nbformat": 4,
 "nbformat_minor": 5
}
