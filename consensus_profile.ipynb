{
 "cells": [
  {
   "cell_type": "markdown",
   "id": "bd9b59bf",
   "metadata": {},
   "source": [
    "I was able to fix the problem without using ChatGTP! I just joined everything together, and wherever the word Rosalind should have gone, I replaced it with \\n. Then I split there, removed all the numbers and fixed the formatting to match the original work I had. Then the rest of the code was what I already had before."
   ]
  },
  {
   "cell_type": "code",
   "execution_count": 5,
   "id": "66c5a03a",
   "metadata": {},
   "outputs": [],
   "source": [
    "import numpy as np"
   ]
  },
  {
   "cell_type": "code",
   "execution_count": 6,
   "id": "96cb13b8",
   "metadata": {},
   "outputs": [
    {
     "name": "stdout",
     "output_type": "stream",
     "text": [
      "[['C' 'G' 'T' ... 'G' 'G' 'T']\n",
      " ['C' 'G' 'C' ... 'C' 'C' 'G']\n",
      " ['T' 'T' 'G' ... 'C' 'C' 'T']\n",
      " ...\n",
      " ['A' 'A' 'A' ... 'C' 'A' 'C']\n",
      " ['A' 'A' 'G' ... 'C' 'G' 'C']\n",
      " ['A' 'C' 'G' ... 'A' 'C' 'T']]\n"
     ]
    }
   ],
   "source": [
    "with open('rosalind_cons.txt', 'r') as f: \n",
    "    lines = [line.rstrip() for line in f]\n",
    "\n",
    "result = \"\".join(lines)\n",
    "\n",
    "cleaned_sequence = []\n",
    "formatted_sequence = result.replace('>Rosalind_', '\\n')\n",
    "formatted_sequence = formatted_sequence.split('\\n')\n",
    "\n",
    "for line in formatted_sequence:\n",
    "    if line == '':\n",
    "        pass\n",
    "    \n",
    "    else:\n",
    "        value = ''.join(i for i in line if not i.isdigit()) #removes number\n",
    "        value = value.split()\n",
    "        #print(value)\n",
    "        \n",
    "        cleaned_sequence.append(value)\n",
    "    \n",
    "#print(cleaned_sequence)\n",
    "\n",
    "split_result = []\n",
    "\n",
    "for sublist in cleaned_sequence:\n",
    "    for string in sublist:\n",
    "        split_result.extend([list(string)])\n",
    "        \n",
    "matrix = np.array(split_result, dtype = object)\n",
    "print(matrix)"
   ]
  },
  {
   "cell_type": "code",
   "execution_count": 7,
   "id": "97192f5d",
   "metadata": {},
   "outputs": [],
   "source": [
    "#first value is row, second is column\n",
    "#where I was struggling was that I kept using the row first, but column first is better\n",
    "A = []\n",
    "C = []\n",
    "G = []\n",
    "T = []\n",
    "\n",
    "for i in range(len(matrix[0])): #for every column\n",
    "    A_count = 0\n",
    "    C_count = 0\n",
    "    G_count = 0\n",
    "    T_count = 0 \n",
    "    \n",
    "    for value in matrix[:,i]: #for all the values in that column \n",
    "        if value == 'A':\n",
    "            A_count += 1\n",
    "        \n",
    "        if value == 'C':\n",
    "            C_count += 1\n",
    "        \n",
    "        if value == 'G':\n",
    "            G_count += 1\n",
    "        \n",
    "        if value == 'T':\n",
    "            T_count += 1\n",
    "            \n",
    "    A.append(A_count)\n",
    "    C.append(C_count)\n",
    "    G.append(G_count)\n",
    "    T.append(T_count)\n"
   ]
  },
  {
   "cell_type": "code",
   "execution_count": 8,
   "id": "2421dbf7",
   "metadata": {},
   "outputs": [],
   "source": [
    "consensus_string = []\n",
    "\n",
    "index = {0 : 'A',\n",
    "         1 : 'C',\n",
    "         2 : 'G',\n",
    "         3 : 'T'}\n",
    "    \n",
    "for i in range(len(A)):\n",
    "    profile_value = [(A[i]),(C[i]),(G[i]),(T[i])]\n",
    "    max_value = max(profile_value)\n",
    "    \n",
    "    max_index = profile_value.index(max_value)\n",
    "    \n",
    "    consensus_string.append(index[max_index])\n",
    "    \n",
    "consensus_string = ''.join(map(str, consensus_string))\n",
    "\n",
    "A = ' '.join(map(str, A))\n",
    "C = ' '.join(map(str, C))\n",
    "G = ' '.join(map(str, G))\n",
    "T = ' '.join(map(str, T))\n",
    "\n",
    "with open('consensus_results.txt', 'w') as results:\n",
    "    results.write(consensus_string + '\\n')\n",
    "    results.write('A: ' + A + '\\n')\n",
    "    results.write('C: ' + C + '\\n')\n",
    "    results.write('G: ' + G + '\\n')\n",
    "    results.write('T: ' + T + '\\n')"
   ]
  }
 ],
 "metadata": {
  "kernelspec": {
   "display_name": "Python 3 (ipykernel)",
   "language": "python",
   "name": "python3"
  },
  "language_info": {
   "codemirror_mode": {
    "name": "ipython",
    "version": 3
   },
   "file_extension": ".py",
   "mimetype": "text/x-python",
   "name": "python",
   "nbconvert_exporter": "python",
   "pygments_lexer": "ipython3",
   "version": "3.10.9"
  }
 },
 "nbformat": 4,
 "nbformat_minor": 5
}
