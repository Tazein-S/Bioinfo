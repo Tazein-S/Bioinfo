{
 "cells": [
  {
   "cell_type": "markdown",
   "id": "56c1d155",
   "metadata": {},
   "source": [
    "### Created on 5/1/24 by Tazein Shah\n",
    "### Made to solve the Rosalind problem 'Counting DNA Nucleotides'\n",
    "### First block is my attempt, second is using the rebelScience tutorial"
   ]
  },
  {
   "cell_type": "code",
   "execution_count": 20,
   "id": "509c65bf",
   "metadata": {},
   "outputs": [
    {
     "name": "stdout",
     "output_type": "stream",
     "text": [
      "232 240 244 245\n"
     ]
    }
   ],
   "source": [
    "Nucleotides = [\"A\", \"C\", \"G\", \"T\"]\n",
    "\n",
    "T_values = 0\n",
    "A_values = 0\n",
    "C_values = 0\n",
    "G_values = 0\n",
    "\n",
    "dna_seq = 'TTGGGGAGCCCGCGAAACTGACACAATTCACGATCCATAGCTCTCGCTAGGCTGGGGGTATCATTTGAATGCCGACAATATGACCAAAGGAATTCTTCATCTGGGGAGGGCATAGAAAGCATCGCGCGACCAGCGTCCCAACGCGTTCGAAAGAATTCAGACGGCCGATGATGTCGCGGCTGCGTTAGGGCACACTACCTATACTCTCTACGAGCGCATACTGACGGGGGTTCAGTGCGGGATCAACGTTCTCTTTGCTGGCTTCGTAGATACCTTAACTAAGCCATTAGTGGCATTCCGGCTCTGCTAAGGTTTTATGCGAGTCATCGCCCACGCACTCGATGTCTCGGGGACGGGATATGAATGGGTGGACACGTCAAAGATTGTGACACTTGTAAGGTGCTCGACACGTCTCTCTCAGAAGCACGGTACAGGAGCTATCTTTCCGCGGTCGGCAGTGTGGACTTACGCGCCAAATGGAAGGGAATCAGTGCCAATATGAGGATAGCAGTTACGTACTGTTTTGCTTAATGAATCCATCTATCGGAACCACGCTTTGAAATCGTTTCAAGGCCCCGATTAGGGCTGCATGCAATCAAGACAGGCTCTTTGAGAAGTTTTCCTTTATCTAAGTTCCCAGAGGTTAGTAAACATGTACGTCAACCGCTAACGTTAACGCAGACATCAGCTCACATGGTCATGGTTCCACGGCGTAATAATTTGTTCTTGGTCCCGGAAGTGAGAGCCAGTGCCACCGATCCCTATGTCGTACCCGCCTTAGAAACCCTTGCCGCGTCAGGATGAGTCGTGACCATTGCAGCGACCAACCGCGTATAGTGCTCAGATAATTTCGTCTATTTGATCGATCGTATGAGATGCAGGAGTTTGCATTTCTACAATACGCTAACCCCGGGTTTCCTGCGGATATCGCTCACTCGTTTAGTTACAATGCCTCGACGTC'\n",
    "\n",
    "for nuc in dna_seq:\n",
    "    if nuc == 'T':\n",
    "        T_values += 1\n",
    "        \n",
    "    if nuc == 'A':\n",
    "        A_values +=1\n",
    "    \n",
    "    if nuc == 'C':\n",
    "        C_values +=1\n",
    "    \n",
    "    if nuc == 'G':\n",
    "        G_values +=1\n",
    "    \n",
    "\n",
    "print(' '.join([str(A_values),str(C_values), str(G_values),str(T_values)]))"
   ]
  },
  {
   "cell_type": "code",
   "execution_count": 21,
   "id": "b7d0aa49",
   "metadata": {},
   "outputs": [
    {
     "name": "stdout",
     "output_type": "stream",
     "text": [
      "245 244 232 240\n"
     ]
    }
   ],
   "source": [
    "#from rebelScience tutorial\n",
    "\n",
    "import collections\n",
    "\n",
    "Nucleotides = [\"A\", \"C\", \"G\", \"T\"]\n",
    "dna_seq = 'TTGGGGAGCCCGCGAAACTGACACAATTCACGATCCATAGCTCTCGCTAGGCTGGGGGTATCATTTGAATGCCGACAATATGACCAAAGGAATTCTTCATCTGGGGAGGGCATAGAAAGCATCGCGCGACCAGCGTCCCAACGCGTTCGAAAGAATTCAGACGGCCGATGATGTCGCGGCTGCGTTAGGGCACACTACCTATACTCTCTACGAGCGCATACTGACGGGGGTTCAGTGCGGGATCAACGTTCTCTTTGCTGGCTTCGTAGATACCTTAACTAAGCCATTAGTGGCATTCCGGCTCTGCTAAGGTTTTATGCGAGTCATCGCCCACGCACTCGATGTCTCGGGGACGGGATATGAATGGGTGGACACGTCAAAGATTGTGACACTTGTAAGGTGCTCGACACGTCTCTCTCAGAAGCACGGTACAGGAGCTATCTTTCCGCGGTCGGCAGTGTGGACTTACGCGCCAAATGGAAGGGAATCAGTGCCAATATGAGGATAGCAGTTACGTACTGTTTTGCTTAATGAATCCATCTATCGGAACCACGCTTTGAAATCGTTTCAAGGCCCCGATTAGGGCTGCATGCAATCAAGACAGGCTCTTTGAGAAGTTTTCCTTTATCTAAGTTCCCAGAGGTTAGTAAACATGTACGTCAACCGCTAACGTTAACGCAGACATCAGCTCACATGGTCATGGTTCCACGGCGTAATAATTTGTTCTTGGTCCCGGAAGTGAGAGCCAGTGCCACCGATCCCTATGTCGTACCCGCCTTAGAAACCCTTGCCGCGTCAGGATGAGTCGTGACCATTGCAGCGACCAACCGCGTATAGTGCTCAGATAATTTCGTCTATTTGATCGATCGTATGAGATGCAGGAGTTTGCATTTCTACAATACGCTAACCCCGGGTTTCCTGCGGATATCGCTCACTCGTTTAGTTACAATGCCTCGACGTC'\n",
    "\n",
    "def countNucFrequency(dna_seq):\n",
    "  return(dict(collections.Counter(dna_seq)))\n",
    "\n",
    "result = countNucFrequency(dna_seq)\n",
    "\n",
    "print(' '.join([str(val) for key, val in result.items()]))"
   ]
  },
  {
   "cell_type": "code",
   "execution_count": 1,
   "id": "c916fcb0",
   "metadata": {},
   "outputs": [
    {
     "name": "stdout",
     "output_type": "stream",
     "text": [
      "The Zen of Python, by Tim Peters\n",
      "\n",
      "Beautiful is better than ugly.\n",
      "Explicit is better than implicit.\n",
      "Simple is better than complex.\n",
      "Complex is better than complicated.\n",
      "Flat is better than nested.\n",
      "Sparse is better than dense.\n",
      "Readability counts.\n",
      "Special cases aren't special enough to break the rules.\n",
      "Although practicality beats purity.\n",
      "Errors should never pass silently.\n",
      "Unless explicitly silenced.\n",
      "In the face of ambiguity, refuse the temptation to guess.\n",
      "There should be one-- and preferably only one --obvious way to do it.\n",
      "Although that way may not be obvious at first unless you're Dutch.\n",
      "Now is better than never.\n",
      "Although never is often better than *right* now.\n",
      "If the implementation is hard to explain, it's a bad idea.\n",
      "If the implementation is easy to explain, it may be a good idea.\n",
      "Namespaces are one honking great idea -- let's do more of those!\n"
     ]
    }
   ],
   "source": []
  },
  {
   "cell_type": "code",
   "execution_count": 4,
   "id": "39c5a7a4",
   "metadata": {},
   "outputs": [
    {
     "name": "stdout",
     "output_type": "stream",
     "text": [
      "1434137\n"
     ]
    }
   ],
   "source": [
    "a = 824\n",
    "b = 869\n",
    "\n",
    "c = ((a**2) + (b**2))\n",
    "\n",
    "print(c)"
   ]
  },
  {
   "cell_type": "code",
   "execution_count": null,
   "id": "de617af6",
   "metadata": {},
   "outputs": [],
   "source": []
  }
 ],
 "metadata": {
  "kernelspec": {
   "display_name": "Python 3 (ipykernel)",
   "language": "python",
   "name": "python3"
  },
  "language_info": {
   "codemirror_mode": {
    "name": "ipython",
    "version": 3
   },
   "file_extension": ".py",
   "mimetype": "text/x-python",
   "name": "python",
   "nbconvert_exporter": "python",
   "pygments_lexer": "ipython3",
   "version": "3.10.9"
  }
 },
 "nbformat": 4,
 "nbformat_minor": 5
}
